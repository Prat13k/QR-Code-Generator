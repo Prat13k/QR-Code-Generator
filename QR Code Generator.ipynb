{
 "cells": [
  {
   "cell_type": "code",
   "execution_count": 1,
   "metadata": {},
   "outputs": [
    {
     "name": "stdout",
     "output_type": "stream",
     "text": [
      "Collecting qrcode\n",
      "  Downloading qrcode-7.3.tar.gz (43 kB)\n",
      "Requirement already satisfied: colorama in c:\\users\\91787\\anaconda3\\lib\\site-packages (from qrcode) (0.4.4)\n",
      "Building wheels for collected packages: qrcode\n",
      "  Building wheel for qrcode (setup.py): started\n",
      "  Building wheel for qrcode (setup.py): finished with status 'done'\n",
      "  Created wheel for qrcode: filename=qrcode-7.3-py3-none-any.whl size=40232 sha256=b0d827c662ae0dce0ff3a7c1c808c9d90de7e4e5da4b17eabf9720dd29ce4493\n",
      "  Stored in directory: c:\\users\\91787\\appdata\\local\\pip\\cache\\wheels\\94\\7d\\9f\\316e6791be6447d213fff86442850ccb2849d9af00796e0311\n",
      "Successfully built qrcode\n",
      "Installing collected packages: qrcode\n",
      "Successfully installed qrcode-7.3\n",
      "Note: you may need to restart the kernel to use updated packages.\n"
     ]
    }
   ],
   "source": [
    "pip install qrcode"
   ]
  },
  {
   "cell_type": "code",
   "execution_count": 5,
   "metadata": {},
   "outputs": [
    {
     "name": "stdout",
     "output_type": "stream",
     "text": [
      "https://www.google.com/search?client=firefox-b-d&q=car-prediction+price+prediction+project.herokuapp&spell=1&sa=X&ved=2ahUKEwiSn5-HvezyAhXbFLcAHQ4ADX8QBSgAegQIARAx&biw=1366&bih=654\n",
      "app1.png\n"
     ]
    }
   ],
   "source": [
    "import qrcode\n",
    "input_data = input()\n",
    "qr = qrcode.QRCode(version = 1,box_size = 10,border = 5)\n",
    "qr.add_data(input_data)\n",
    "qr.make(fit = True)\n",
    "image = qr.make_image(fill = 'black',back_color = 'white')\n",
    "image.save(input())"
   ]
  }
 ],
 "metadata": {
  "kernelspec": {
   "display_name": "Python 3",
   "language": "python",
   "name": "python3"
  },
  "language_info": {
   "codemirror_mode": {
    "name": "ipython",
    "version": 3
   },
   "file_extension": ".py",
   "mimetype": "text/x-python",
   "name": "python",
   "nbconvert_exporter": "python",
   "pygments_lexer": "ipython3",
   "version": "3.8.5"
  }
 },
 "nbformat": 4,
 "nbformat_minor": 4
}
